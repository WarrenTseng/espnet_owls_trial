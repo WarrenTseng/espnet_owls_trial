{
 "cells": [
  {
   "cell_type": "markdown",
   "id": "2da71359",
   "metadata": {},
   "source": [
    "# 4B Owls Trial"
   ]
  },
  {
   "cell_type": "code",
   "execution_count": 1,
   "id": "a1085183",
   "metadata": {},
   "outputs": [
    {
     "data": {
      "application/vnd.jupyter.widget-view+json": {
       "model_id": "eec0be7de8624ba3b4faaba379baacc7",
       "version_major": 2,
       "version_minor": 0
      },
      "text/plain": [
       "Fetching 9 files:   0%|          | 0/9 [00:00<?, ?it/s]"
      ]
     },
     "metadata": {},
     "output_type": "display_data"
    }
   ],
   "source": [
    "import soundfile\n",
    "import librosa\n",
    "from espnet2.bin.s2t_inference import Speech2Text\n",
    "from opencc import OpenCC\n",
    "\n",
    "model = Speech2Text.from_pretrained(\n",
    "    \"espnet/owls_4B_180K\",\n",
    "    device='cuda'\n",
    ")"
   ]
  },
  {
   "cell_type": "markdown",
   "id": "fc362ad8",
   "metadata": {},
   "source": [
    "## Chinese Recognition"
   ]
  },
  {
   "cell_type": "code",
   "execution_count": 2,
   "id": "b65c1375",
   "metadata": {},
   "outputs": [],
   "source": [
    "model.lang_sym = \"<zho>\" # Chinese\n",
    "model.predict_time = True # enable/disable timestamp\n",
    "\n",
    "speech, rate = soundfile.read(\"zh.wav\") # load the audio file\n",
    "speech = librosa.resample(speech, orig_sr=rate, target_sr=16000) # make sure 16k sampling rate"
   ]
  },
  {
   "cell_type": "code",
   "execution_count": 3,
   "id": "3bed9900",
   "metadata": {},
   "outputs": [
    {
     "name": "stdout",
     "output_type": "stream",
     "text": [
      "<zho><asr><0.00> 有一天小明問他爸如果我考試考不好會怎樣他他爸笑着說沒關係兒子失敗是成功之母嗯嗯範小明想了想說那我現在是不是有很多媽媽他爸愣了一下然後默默走開了<24.80>\n"
     ]
    }
   ],
   "source": [
    "text, *_ = model(speech)[0] # inference\n",
    "\n",
    "cc = OpenCC('s2t') \n",
    "s2t_text = cc.convert(text) # convert to Traditional Chinese\n",
    "\n",
    "print(s2t_text)"
   ]
  },
  {
   "cell_type": "markdown",
   "id": "807a8a9a",
   "metadata": {},
   "source": [
    "## English Recognition"
   ]
  },
  {
   "cell_type": "code",
   "execution_count": 4,
   "id": "83bb829e",
   "metadata": {},
   "outputs": [],
   "source": [
    "model.lang_sym = \"<eng>\" # Chinese\n",
    "model.predict_time = True # enable/disable timestamp\n",
    "\n",
    "speech, rate = soundfile.read(\"en.wav\") # load the audio file\n",
    "speech = librosa.resample(speech, orig_sr=rate, target_sr=16000) # make sure 16k sampling rate"
   ]
  },
  {
   "cell_type": "code",
   "execution_count": 5,
   "id": "c145e2d0",
   "metadata": {},
   "outputs": [
    {
     "name": "stdout",
     "output_type": "stream",
     "text": [
      "<eng><asr><0.00> hey are you doing pretty good pretty good i'm great so happy to who's speaking to you me too this is some cool stuff huh yeah they're reading more about speech generation and it really seems like context is important definitely<13.76>\n"
     ]
    }
   ],
   "source": [
    "text, *_ = model(speech)[0] # inference\n",
    "\n",
    "print(text)"
   ]
  },
  {
   "cell_type": "code",
   "execution_count": null,
   "id": "31c25b4e",
   "metadata": {},
   "outputs": [],
   "source": []
  }
 ],
 "metadata": {
  "kernelspec": {
   "display_name": "Python 3 (ipykernel)",
   "language": "python",
   "name": "python3"
  },
  "language_info": {
   "codemirror_mode": {
    "name": "ipython",
    "version": 3
   },
   "file_extension": ".py",
   "mimetype": "text/x-python",
   "name": "python",
   "nbconvert_exporter": "python",
   "pygments_lexer": "ipython3",
   "version": "3.10.12"
  }
 },
 "nbformat": 4,
 "nbformat_minor": 5
}
